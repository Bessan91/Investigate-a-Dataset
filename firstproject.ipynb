{
 "cells": [
  {
   "cell_type": "markdown",
   "id": "ffd1b12e-dd61-4b48-ae61-c4f26c5f14f5",
   "metadata": {},
   "source": [
    "# Movie Data Analysis Report"
   ]
  },
  {
   "cell_type": "markdown",
   "id": "2e3bd253-744d-434d-b81c-a6c1d6b4198a",
   "metadata": {},
   "source": [
    "\n",
    "## Introduction\n",
    "This project aims to explore various aspects of the movie dataset, including information on cast, crew, and movie metadata. By analyzing this data, we hope to answer the following questions:\n",
    "- Which actors and directors appear most frequently in the dataset?\n",
    "- What are the trends in movie releases over the years?\n",
    "- How does the popularity of movies vary with different genres?"
   ]
  },
  {
   "cell_type": "markdown",
   "id": "f827021b-5c6b-4d02-9c66-4461f1983e48",
   "metadata": {},
   "source": [
    "## Data Wrangling\n",
    "In this section, we clean and prepare the data for analysis. The following steps were taken:\n",
    "- Removed rows with missing values in critical columns like `title` and `cast`.\n",
    "- Transformed the `cast` and `crew` columns from JSON format into separate columns for easier analysis.\n",
    "- Filtered out movies with no cast or crew data.\n"
   ]
  },
  {
   "cell_type": "markdown",
   "id": "0fbf1afb-bfdc-44b4-a6a7-b2461aedb1c5",
   "metadata": {},
   "source": [
    "## Analysis section :\n",
    "\n",
    "In this analysis, Iam began by loading and cleaning the movie dataset. After handling and checking the missing values and duplicates, Iam performed data wrangling to extract relevant information such as cast and crew member names. Exploratory Data Analysis (EDA) was then conducted to gain insights into cast and crew sizes, as well as the frequency of certain actors and directors across movies.\n"
   ]
  },
  {
   "cell_type": "markdown",
   "id": "1c7ff96f-ea45-4a1e-9fcd-b59b289bed5d",
   "metadata": {},
   "source": [
    "#### My analysis also :\n",
    "showed that certain actors appear in many movies, with actor Samuel L. Jackson leading in appearances. Similarly, director Steven Spielberg is one of the most frequently credited directors. In terms of cast and crew sizes, we observed that the average movie has a Cast size of 22 cast members and 26 crew members. We found a positive correlation between the size of the cast and the size of the crew, which suggests that larger productions often have both a higher number of cast and crew members. However, this does not imply causation and only indicates a pattern observed in this dataset."
   ]
  },
  {
   "cell_type": "markdown",
   "id": "1bfa06fc-af48-4c28-99bc-5f20e8c6af34",
   "metadata": {},
   "source": [
    "## Exploratory Data Analysis (EDA)\n",
    "### Cast Analysis\n",
    "The analysis of cast data showed the following interesting patterns:\n",
    "- **Most Frequent Actors**: Actors who appear most frequently across different movies.\n",
    "- **Gender Distribution**: Distribution of male and female actors in movies.\n",
    "\n",
    "### Crew Analysis\n",
    "The crew data analysis highlighted trends in:\n",
    "- **Most Frequent Directors**: Directors with the highest number of movie credits.\n",
    "- **Popular Roles**: Common roles and positions held by crew members."
   ]
  },
  {
   "cell_type": "markdown",
   "id": "e7401d19-32bc-4f98-a5ea-cfd7e936e06d",
   "metadata": {},
   "source": [
    "## Conclusions\n",
    "\n",
    "### Summary of Data Exploration Steps\n",
    "In this analysis, I am beginning by loading and cleaning the movie dataset. After handling missing values and duplicates, we performed data wrangling to extract relevant information, such as cast and crew member names. Exploratory Data Analysis (EDA) was then conducted to gain insights into cast and crew sizes, as well as the frequency of certain actors and directors across movies.\n",
    "\n",
    "### Key Findings Related to Research Questions\n",
    "My analysis showed that certain actors appear in many movies, with actor Samuel L. Jackson leading in appearances. Similarly, director Steven Spielberg is one of the most frequently credited directors. I found a positive correlation between the size of the cast and the size of the crew. In terms of cast and crew sizes, we observed that the average movie has a cast size of 22 cast members and 26 crew members.which suggests that larger productions often have both a higher number of cast and crew members. However, this does not imply causation and only indicates a pattern observed in this dataset.\n",
    "\n",
    "### Limitations and Areas for Future Research\n",
    "This analysis is limited by the scope of the dataset, which may not represent the entire movie industry. Additionally, some cast and crew details might be missing, which could affect the completeness of the analysis. To strengthen future research, we could expand the dataset to include more variables, such as box office performance, genre-specific trends, or audience ratings, to assess a broader range of relationships. Furthermore, proving causality between variables would require more robust statistical tests beyond correlation."
   ]
  },
  {
   "cell_type": "markdown",
   "id": "e4e13fac-91e1-40ce-b159-f9199f88f450",
   "metadata": {},
   "source": [
    "### Limitations\n",
    "- This analysis is limited by the scope of the dataset, which may not represent the entire movie industry. Additionally, some cast and crew details might be missing, which could affect the completeness of the analysis. To strengthen future research, we could expand the dataset to include more variables, such as box office performance, genre-specific trends, or audience ratings, to assess a broader range of relationships. Furthermore, proving causality between variables would require more robust statistical tests beyond correlation."
   ]
  },
  {
   "cell_type": "markdown",
   "id": "87de7f9c-0e76-4901-8309-d4f23f3f6be1",
   "metadata": {},
   "source": [
    " The First Step is define the pandas"
   ]
  },
  {
   "cell_type": "code",
   "execution_count": null,
   "id": "7683b244-1350-4ba2-97da-0ff21183b973",
   "metadata": {},
   "outputs": [],
   "source": [
    "import pandas as pd\n",
    "import json\n",
    "from collections import Counter\n",
    "import matplotlib.pyplot as plt"
   ]
  },
  {
   "cell_type": "markdown",
   "id": "10eb209e-fe19-49c4-9282-a9ddee750295",
   "metadata": {},
   "source": [
    "read the dataset to analyais "
   ]
  },
  {
   "cell_type": "code",
   "execution_count": null,
   "id": "c6a5fca4-f5b9-4f56-889c-302496f3b154",
   "metadata": {},
   "outputs": [],
   "source": [
    "\n",
    "file_path = \"movie.csv\"\n",
    "movies = pd.read_csv(file_path)"
   ]
  },
  {
   "cell_type": "code",
   "execution_count": null,
   "id": "95684fab-9a6e-4676-bbf5-7dab8375b6ca",
   "metadata": {},
   "outputs": [],
   "source": [
    "movies.head()"
   ]
  },
  {
   "cell_type": "code",
   "execution_count": null,
   "id": "32e3a6a8-bd06-4ff8-adf9-d92c259b76f8",
   "metadata": {},
   "outputs": [],
   "source": [
    "import json\n",
    "# Parse 'cast' JSON data\n",
    "def parse_cast(cast_json):\n",
    "        cast_data = json.loads(cast_json)\n",
    "        return pd.DataFrame(cast_data)\n",
    "# Expand cast information into a DataFrame\n",
    "df_cast = movies['cast'].apply(parse_cast)\n",
    "\n",
    "df_cast_expanded = pd.concat([movies, pd.json_normalize(df_cast)], axis=1)"
   ]
  },
  {
   "cell_type": "code",
   "execution_count": null,
   "id": "ffeb0b58-898d-41e7-b95a-a6f89f37a0a6",
   "metadata": {},
   "outputs": [],
   "source": [
    "#Check for null values\n",
    "print(movies.isnull().sum())"
   ]
  },
  {
   "cell_type": "code",
   "execution_count": null,
   "id": "67073d61-78d3-4208-a99e-40e72e960209",
   "metadata": {},
   "outputs": [],
   "source": [
    "# Drop duplicates based on 'movie_id'\n",
    "movies.drop_duplicates(subset='movie_id', inplace=True)"
   ]
  },
  {
   "cell_type": "code",
   "execution_count": null,
   "id": "0a19e2f2-9d73-4b14-a789-ab7e7e92163b",
   "metadata": {},
   "outputs": [],
   "source": [
    "import json\n",
    "\n",
    "# Convert 'cast' and 'crew' columns from JSON strings to lists of dictionaries\n",
    "movies['cast'] = movies['cast'].apply(lambda x: json.loads(x) if isinstance(x, str) else [])\n",
    "movies['crew'] = movies['crew'].apply(lambda x: json.loads(x) if isinstance(x, str) else [])\n"
   ]
  },
  {
   "cell_type": "code",
   "execution_count": null,
   "id": "35c49c37-b118-4f03-a7ee-048a30261773",
   "metadata": {},
   "outputs": [],
   "source": [
    "def get_actor_names(cast_data):\n",
    "    return [member['name'] for member in cast_data if 'name' in member]\n",
    "\n",
    "movies['actor_names'] = movies['cast'].apply(get_actor_names)\n"
   ]
  },
  {
   "cell_type": "code",
   "execution_count": null,
   "id": "2264fa91-492f-4bb7-b508-e81ec42ef644",
   "metadata": {},
   "outputs": [],
   "source": [
    "def get_director_names(crew_data):\n",
    "    return [member['name'] for member in crew_data if member.get('job') == 'Director']\n",
    "\n",
    "movies['directors'] = movies['crew'].apply(get_director_names)\n"
   ]
  },
  {
   "cell_type": "code",
   "execution_count": null,
   "id": "c4aad0f7-1c6a-418d-a859-69be9aeb436a",
   "metadata": {},
   "outputs": [],
   "source": [
    "# Count frequency of each actor\n",
    "from collections import Counter\n",
    "actor_count = Counter([actor for actors in movies['actor_names'] for actor in actors])"
   ]
  },
  {
   "cell_type": "code",
   "execution_count": null,
   "id": "be322d24-1cfe-449a-bfb1-e7e45365ea15",
   "metadata": {},
   "outputs": [],
   "source": [
    "top_10_actors = actor_count.most_common(10)\n",
    "print(\"Top 10 Actors:\", top_10_actors)"
   ]
  },
  {
   "cell_type": "code",
   "execution_count": null,
   "id": "947c8259-f9a7-43e6-8e60-56a43c275961",
   "metadata": {},
   "outputs": [],
   "source": [
    "# Count frequency of each director\n",
    "director_count = movies['directors'].value_counts().head(10)\n",
    "print(\"Top 10 Directors:\", director_count)"
   ]
  },
  {
   "cell_type": "code",
   "execution_count": null,
   "id": "017cdccb-8492-44d9-9d30-3bf9a7acce2d",
   "metadata": {},
   "outputs": [],
   "source": [
    "# Average number of cast members\n",
    "avg_cast_size = movies['cast'].apply(len).mean()\n",
    "print(\"Average Cast Size:\", avg_cast_size)\n",
    "\n",
    "# Average crew size\n",
    "avg_crew_size = movies['crew'].apply(len).mean()\n",
    "print(\"Average Crew Size:\", avg_crew_size)\n"
   ]
  },
  {
   "cell_type": "markdown",
   "id": "62329a57-ddfc-4b1a-a1bf-a1e17add8bb8",
   "metadata": {},
   "source": [
    "## Summary for Top 10 Actors Visual\n",
    " A. Top 10 Actors\n",
    "Visualization: Bar Chart\n",
    "\n",
    "#### Steps:\n",
    "\n",
    "* I used the Counter module to count the frequency of actors across movies.\n",
    "* Extracted the top 10 actors and plotted their frequencies using a horizontal bar chart."
   ]
  },
  {
   "cell_type": "code",
   "execution_count": null,
   "id": "f9320a53-cbd4-492c-8f41-22cf8cf743f8",
   "metadata": {},
   "outputs": [],
   "source": [
    "\n",
    "# Top 10 Actors\n",
    "actor_names, actor_freq = zip(*top_10_actors)\n",
    "plt.figure(figsize=(10, 6))\n",
    "plt.barh(actor_names, actor_freq, color='skyblue')\n",
    "plt.xlabel(\"Number of Movies\")\n",
    "plt.title(\"Top 10 Most Frequent Actors\")\n",
    "plt.gca().invert_yaxis()\n",
    "plt.show()\n"
   ]
  },
  {
   "cell_type": "markdown",
   "id": "306c3f99-be68-46bd-af97-728f80f0ba43",
   "metadata": {},
   "source": [
    "### Interpretation:\n",
    "\n",
    "This chart highlights the most frequently appearing actors in the dataset. Actor Samuel L. Jackson appears in the highest number of movies, showcasing their dominance in the industry. The distribution suggests that a small subset of actors features prominently across films, indicating potential industry preferences or typecasting."
   ]
  },
  {
   "cell_type": "markdown",
   "id": "0f5cf2a6-223b-45b7-a3e0-bdccd014c8da",
   "metadata": {},
   "source": [
    "### Summary for Top 10 Directors Visual\n",
    "A. Top 10 Directors Visualization: Bar Chart\n",
    "\n",
    "#### Steps:\n",
    "* Counted the occurrences of each director in the dataset using value_counts() and extracted the top 10 directors.\n",
    "* Plotted the results using a vertical bar chart."
   ]
  },
  {
   "cell_type": "code",
   "execution_count": null,
   "id": "fe0d418a-7362-41dc-b68e-e5d48913c21c",
   "metadata": {},
   "outputs": [],
   "source": [
    "# Top 10 Directors\n",
    "director_count.plot(kind='bar', color='coral', title='Top 10 Directors')\n",
    "plt.xlabel(\"Director\")\n",
    "plt.ylabel(\"Number of Movies\")\n",
    "plt.show()"
   ]
  },
  {
   "cell_type": "markdown",
   "id": "c0bd0816-4e6e-4896-969d-669f836def24",
   "metadata": {},
   "source": [
    "### Interpretation:\n",
    "\n",
    "Director Steven Spielberg tops the list, directing the most movies in this dataset. This could indicate their popularity or consistent output. The relatively steep drop in frequencies after the top few directors suggests that only a handful of directors are extremely active.\"\n"
   ]
  },
  {
   "cell_type": "markdown",
   "id": "99c2b841-f63b-48f9-aecc-d2de260db292",
   "metadata": {},
   "source": [
    "### Summary for Cast and Number of movies Visual\n",
    "C. Cast and Number of movies Visual\n",
    "Visualization: Histogram Plot\n",
    "\n",
    "#### Steps:\n",
    "Calculate Cast Size:\n",
    "\n",
    "Used the length of the cast column (list of cast members for each movie) to create a new column, cast_size.\n",
    "This column represents the number of cast members for each movie in the dataset.\n",
    "Create Histogram:\n",
    "\n",
    "Visualized the distribution of cast sizes across all movies in the dataset using a histogram.\n",
    "Configured 20 bins to group movies by cast size ranges for clarity.\n",
    "Customize Visualization:\n",
    "\n",
    "Added labels to the x-axis and y-axis for better interpretation.\n",
    "Included a title to describe the plot clearly.\n",
    "\n",
    "\n"
   ]
  },
  {
   "cell_type": "code",
   "execution_count": null,
   "id": "c01ed846-457e-4eab-a415-73877fed43b2",
   "metadata": {},
   "outputs": [],
   "source": [
    "movies['cast_size'] = movies['cast'].apply(len)\n",
    "plt.figure(figsize=(10, 6))\n",
    "plt.hist(movies['cast_size'], bins=20, color='purple', alpha=0.7)\n",
    "plt.xlabel(\"Number of Cast Members\")\n",
    "plt.ylabel(\"Number of Movies\")\n",
    "plt.title(\"Distribution of Cast Size per Movie\")\n",
    "plt.show()"
   ]
  },
  {
   "cell_type": "markdown",
   "id": "ea252713-8699-46c0-9a3d-6dd897fbfde4",
   "metadata": {},
   "source": [
    "### Interpretation:\n",
    "The histogram shows that:\n",
    "Most movies have a moderate number of cast members, clustered around a specific range \n",
    "Outliers exist at the higher end of the range, indicating that some blockbuster movies employ significantly larger casts.\n",
    "Smaller productions with fewer cast members form another cluster at the lower end"
   ]
  },
  {
   "cell_type": "markdown",
   "id": "834df44a-aa5a-4edd-8487-f6303afa0695",
   "metadata": {},
   "source": [
    "### Key Observations:\n",
    "\n",
    "The average cast size is calculated (but not directly visible in the histogram).\n",
    "Larger movies (e.g., blockbusters) often require proportionally larger casts, leading to the longer tail on the right-hand side.\n",
    "Independent or low-budget films tend to have fewer cast members, contributing to the peak at the lower cast-size range.\n",
    "\n",
    "\n",
    "##### ..........................................."
   ]
  },
  {
   "cell_type": "markdown",
   "id": "5832c0e5-a898-450e-9cfa-a959ee16a4b3",
   "metadata": {},
   "source": [
    "### Distribution of Cast Size per Movie \n",
    "Visualization: Scatter Plot\n",
    "\n",
    "#### Steps:\n",
    "\n",
    "Plotted cast_size against crew_size using a scatter plot to analyze the relationship.\n",
    "Calculated the correlation coefficient to quantify the strength of the relationship.\n",
    "Interpretation:\n",
    "\n",
    "The scatter plot shows a positive linear relationship between cast size and crew size. Larger productions tend to hire more cast and crew members, as indicated by the correlation coefficient  However, this correlation does not imply causation; further analysis would be needed to confirm a direct relationship."
   ]
  },
  {
   "cell_type": "code",
   "execution_count": null,
   "id": "b107a3a9-8644-4c2c-a962-efc868e7dc42",
   "metadata": {},
   "outputs": [],
   "source": [
    "# Calculate cast and crew sizes\n",
    "movies['cast_size'] = movies['cast'].apply(len)\n",
    "movies['crew_size'] = movies['crew'].apply(len)\n",
    "\n",
    "# Scatter plot of cast size vs crew size\n",
    "plt.figure(figsize=(10, 6))\n",
    "plt.scatter(movies['cast_size'], movies['crew_size'], alpha=0.5, color='blue')\n",
    "plt.xlabel(\"Cast Size\")\n",
    "plt.ylabel(\"Crew Size\")\n",
    "plt.title(\"Relationship Between Cast and Crew Sizes\")\n",
    "plt.show()\n"
   ]
  },
  {
   "cell_type": "markdown",
   "id": "ceb3dfa2-d865-46cd-9dc6-a3ace6ef3f85",
   "metadata": {},
   "source": [
    "### Interpretation:\n",
    "\n",
    "The scatter plot shows a positive linear relationship between cast size and crew size. Larger productions tend to hire more cast and crew members, as indicated by the correlation coefficient  However, this correlation does not imply causation; further analysis would be needed to confirm a direct relationship."
   ]
  },
  {
   "cell_type": "markdown",
   "id": "7322aaa3-91ff-4113-b5af-041ac265e2e2",
   "metadata": {},
   "source": [
    "### Summary for Cast and Crew Sizes Visual\n",
    "Visualization: Box Plot\n",
    "\n",
    "#### Steps:\n",
    "Plot the Box Plot:\n",
    "\n",
    "I used  Matplotlib's boxplot function to create a box plot comparing the distribution of cast_size and crew_size.\n",
    "Provided movies['cast_size'] and movies['crew_size'] as data inputs to visualize the size distribution."
   ]
  },
  {
   "cell_type": "code",
   "execution_count": null,
   "id": "f5794c60-ad8b-40fe-a7b5-d2f59f4545a2",
   "metadata": {},
   "outputs": [],
   "source": [
    "import matplotlib.pyplot as plt\n",
    "\n",
    "# Plot using matplotlib (no palette option)\n",
    "plt.figure(figsize=(10, 6))\n",
    "plt.boxplot([movies['cast_size'], movies['crew_size']], labels=['cast_size', 'crew_size'])\n",
    "plt.title(\"Distribution of Cast and Crew Sizes\")\n",
    "plt.xlabel(\"Feature\")\n",
    "plt.ylabel(\"Size\")\n",
    "plt.show()"
   ]
  },
  {
   "cell_type": "markdown",
   "id": "b0f9937b-3bf6-453c-aab7-1c91be7195d5",
   "metadata": {},
   "source": [
    "#### Interpretation:\n",
    "The box plot reveals the distribution of cast and crew sizes across movies:\n",
    "The median line for cast_size and crew_size shows the central tendency of these distributions.\n",
    "The interquartile range (IQR), represented by the box, shows the middle 50% of the data for both cast and crew sizes.\n",
    "Whiskers extend to the smallest and largest non-outlier values, providing an overview of the range.\n",
    "Outliers are depicted as points outside the whiskers, indicating movies with exceptionally large cast or crew sizes."
   ]
  }
 ],
 "metadata": {
  "kernelspec": {
   "display_name": "Python 3 (ipykernel)",
   "language": "python",
   "name": "python3"
  },
  "language_info": {
   "codemirror_mode": {
    "name": "ipython",
    "version": 3
   },
   "file_extension": ".py",
   "mimetype": "text/x-python",
   "name": "python",
   "nbconvert_exporter": "python",
   "pygments_lexer": "ipython3",
   "version": "3.13.0"
  }
 },
 "nbformat": 4,
 "nbformat_minor": 5
}
